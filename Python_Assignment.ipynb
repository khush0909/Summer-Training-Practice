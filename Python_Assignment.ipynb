{
 "cells": [
  {
   "cell_type": "markdown",
   "id": "394b66ec-b90e-4d8e-836c-4305fdc8dd33",
   "metadata": {},
   "source": [
    "### Question1 \n",
    "#### Count the number of perfect square numbers in a given range, range is take as input from user"
   ]
  },
  {
   "cell_type": "code",
   "execution_count": 5,
   "id": "22b6d4f4-f2c4-44ea-a5dc-3b91c2187c22",
   "metadata": {},
   "outputs": [
    {
     "name": "stdin",
     "output_type": "stream",
     "text": [
      "Enter a number 2\n"
     ]
    },
    {
     "name": "stdout",
     "output_type": "stream",
     "text": [
      "2\n"
     ]
    }
   ],
   "source": [
    "n=int(input(\"Enter a number\"))\n",
    "c=0\n",
    "for i in range(n+1):\n",
    "    if((i**0.5)==int(i**0.5)):\n",
    "        c+=1\n",
    "print(c)        \n"
   ]
  },
  {
   "cell_type": "markdown",
   "id": "cf70e20b-2af3-446a-b799-ccd62a12d327",
   "metadata": {},
   "source": [
    "### Question2\n",
    "#### Write a python program to generate the following pattern\r\n",
    "    *\r\n",
    "    * *\r\n",
    "    * * *\r\n",
    "    * * * *\r\n",
    "    * * * * *\r\n",
    "    * * * *\r\n",
    "    * * *\r\n",
    "    * *\r\n",
    "    *\r\n"
   ]
  },
  {
   "cell_type": "code",
   "execution_count": 3,
   "id": "bde5ce33-4193-42f9-bdec-8b0227f562d1",
   "metadata": {},
   "outputs": [
    {
     "name": "stdin",
     "output_type": "stream",
     "text": [
      "Enter the number 5\n"
     ]
    },
    {
     "name": "stdout",
     "output_type": "stream",
     "text": [
      "* \n",
      "* * \n",
      "* * * \n",
      "* * * * \n",
      "* * * * * \n",
      "* * * * \n",
      "* * * \n",
      "* * \n",
      "* \n"
     ]
    }
   ],
   "source": [
    "n=int(input(\"Enter the number\"))\n",
    "for i in range(1,n+1):\n",
    "    print(\"* \"*i)\n",
    "for i in range(n-1,0,-1):\n",
    "    print(\"* \"*i)\n",
    "    "
   ]
  },
  {
   "cell_type": "markdown",
   "id": "9f078673-70ca-49f6-bb32-1291517ed78d",
   "metadata": {},
   "source": [
    "### Question3\n",
    "#### Take a number as input from user and display whether it is prime or not\n"
   ]
  },
  {
   "cell_type": "code",
   "execution_count": 26,
   "id": "0f947bac-4f0d-4ea0-977f-2c044564378f",
   "metadata": {},
   "outputs": [
    {
     "name": "stdin",
     "output_type": "stream",
     "text": [
      "Enter a number to check it's a prime number or not 121\n"
     ]
    },
    {
     "name": "stdout",
     "output_type": "stream",
     "text": [
      "121 is not a prime numnber\n"
     ]
    }
   ],
   "source": [
    "n=int(input(\"Enter a number to check it's a prime number or not\"))\n",
    "if(n<=1):\n",
    "   flag=False\n",
    "else:    \n",
    "    flag=True\n",
    "    for i in range(2, int(n** 0.5) + 1):\n",
    "        if n % i == 0:\n",
    "            flag=False\n",
    "            break\n",
    "        flag=True\n",
    "if(flag==False):\n",
    "    print(n,\"is not a prime numnber\")\n",
    "else:\n",
    "    print(n,\"is a prime numnber\")\n",
    "            \n",
    "\n",
    "            \n"
   ]
  },
  {
   "cell_type": "code",
   "execution_count": null,
   "id": "40191a46-52e7-4c4f-8f6e-c90d172951d9",
   "metadata": {},
   "outputs": [],
   "source": []
  }
 ],
 "metadata": {
  "kernelspec": {
   "display_name": "Python 3 (ipykernel)",
   "language": "python",
   "name": "python3"
  },
  "language_info": {
   "codemirror_mode": {
    "name": "ipython",
    "version": 3
   },
   "file_extension": ".py",
   "mimetype": "text/x-python",
   "name": "python",
   "nbconvert_exporter": "python",
   "pygments_lexer": "ipython3",
   "version": "3.11.7"
  }
 },
 "nbformat": 4,
 "nbformat_minor": 5
}
